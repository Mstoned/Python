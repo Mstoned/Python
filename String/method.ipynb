{
 "cells": [
  {
   "cell_type": "code",
   "execution_count": null,
   "metadata": {},
   "outputs": [],
   "source": []
  },
  {
   "cell_type": "code",
   "execution_count": 5,
   "metadata": {},
   "outputs": [
    {
     "name": "stdout",
     "output_type": "stream",
     "text": [
      "True\n",
      "False\n"
     ]
    }
   ],
   "source": [
    "#This method returns true if all characters in the string are alphanumeric and there is at least one character, \n",
    "#false otherwise\n",
    "str = \"this2009\";  # No space in this string\n",
    "print (str.isalnum())\n",
    "\n",
    "str = \"this is string example....wow!!!\";\n",
    "print (str.isalnum())"
   ]
  },
  {
   "cell_type": "markdown",
   "metadata": {},
   "source": [
    "# isalpha()\n",
    "- This method returns true if all characters in the string are alphabetic and there is at least one character, false otherwise."
   ]
  },
  {
   "cell_type": "code",
   "execution_count": 6,
   "metadata": {},
   "outputs": [
    {
     "name": "stdout",
     "output_type": "stream",
     "text": [
      "True\n",
      "False\n"
     ]
    }
   ],
   "source": [
    "\n",
    "str = \"this\";  # No space & digit in this string\n",
    "print (str.isalpha())\n",
    "\n",
    "str = \"this is string example....wow!!!\";\n",
    "print (str.isalpha())"
   ]
  },
  {
   "cell_type": "markdown",
   "metadata": {},
   "source": [
    "# isdigit\n",
    "-  returns true if all characters in the string are digits and there is at least one character, false otherwise."
   ]
  },
  {
   "cell_type": "code",
   "execution_count": 7,
   "metadata": {},
   "outputs": [
    {
     "name": "stdout",
     "output_type": "stream",
     "text": [
      "True\n",
      "False\n"
     ]
    }
   ],
   "source": [
    "str = \"123456\";  # Only digit in this string\n",
    "print( str.isdigit())\n",
    "\n",
    "str = \"this is string example....wow!!!\";\n",
    "print (str.isdigit())"
   ]
  },
  {
   "cell_type": "markdown",
   "metadata": {},
   "source": [
    "# upper \n"
   ]
  },
  {
   "cell_type": "code",
   "execution_count": 8,
   "metadata": {},
   "outputs": [
    {
     "data": {
      "text/plain": [
       "'MOHIT SHUKLA'"
      ]
     },
     "execution_count": 8,
     "metadata": {},
     "output_type": "execute_result"
    }
   ],
   "source": [
    "m = 'mohit shukla'\n",
    "m.upper()"
   ]
  },
  {
   "cell_type": "markdown",
   "metadata": {},
   "source": [
    "# lower"
   ]
  },
  {
   "cell_type": "code",
   "execution_count": 10,
   "metadata": {},
   "outputs": [
    {
     "data": {
      "text/plain": [
       "'mohit shukla'"
      ]
     },
     "execution_count": 10,
     "metadata": {},
     "output_type": "execute_result"
    }
   ],
   "source": [
    "l = \"MohIt sHUKla\"\n",
    "l.lower()"
   ]
  },
  {
   "cell_type": "markdown",
   "metadata": {},
   "source": [
    "# rstrip \n",
    "- returns a copy of the string in which all chars have been stripped from the end of the string (default whitespace characters)."
   ]
  },
  {
   "cell_type": "code",
   "execution_count": 11,
   "metadata": {},
   "outputs": [
    {
     "name": "stdout",
     "output_type": "stream",
     "text": [
      "     this is string example....wow!!!\n",
      "88888888this is string example....wow!!!\n"
     ]
    }
   ],
   "source": [
    "str = \"     this is string example....wow!!!     \"\n",
    "print( str.rstrip())\n",
    "str = \"88888888this is string example....wow!!!8888888\"\n",
    "print (str.rstrip('8'))"
   ]
  },
  {
   "cell_type": "code",
   "execution_count": 12,
   "metadata": {},
   "outputs": [
    {
     "name": "stdout",
     "output_type": "stream",
     "text": [
      "Inda    FOR     space\n",
      "Inda  FOR space\n",
      "Inda FOR  space\n"
     ]
    }
   ],
   "source": [
    "string = 'Inda\\tFOR\\tspace'\n",
    "  \n",
    "# No parameters, by default size is 8 \n",
    "print (string.expandtabs()) \n",
    "  \n",
    "# tab size taken as 2 \n",
    "print(string.expandtabs(2)) \n",
    "  \n",
    "# tab size taken as 5 \n",
    "print(string.expandtabs(5)) "
   ]
  },
  {
   "cell_type": "code",
   "execution_count": null,
   "metadata": {},
   "outputs": [],
   "source": []
  }
 ],
 "metadata": {
  "kernelspec": {
   "display_name": "Python 3",
   "language": "python",
   "name": "python3"
  },
  "language_info": {
   "codemirror_mode": {
    "name": "ipython",
    "version": 3
   },
   "file_extension": ".py",
   "mimetype": "text/x-python",
   "name": "python",
   "nbconvert_exporter": "python",
   "pygments_lexer": "ipython3",
   "version": "3.7.4"
  }
 },
 "nbformat": 4,
 "nbformat_minor": 2
}
