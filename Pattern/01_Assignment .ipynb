{
 "cells": [
  {
   "cell_type": "code",
   "execution_count": 1,
   "metadata": {},
   "outputs": [],
   "source": [
    "#question 1"
   ]
  },
  {
   "cell_type": "code",
   "execution_count": 6,
   "metadata": {},
   "outputs": [
    {
     "name": "stdout",
     "output_type": "stream",
     "text": [
      "4\n",
      "1 \n",
      "1 2 \n",
      "1 2 3 \n",
      "1 2 3 4 \n"
     ]
    }
   ],
   "source": [
    "n=int(input())\n",
    "for n in range(1, n+1):\n",
    "    for column in range(1, n+ 1):\n",
    "        print(column, end=' ')\n",
    "    print(\"\")\n"
   ]
  },
  {
   "cell_type": "code",
   "execution_count": null,
   "metadata": {},
   "outputs": [],
   "source": []
  },
  {
   "cell_type": "code",
   "execution_count": 50,
   "metadata": {},
   "outputs": [
    {
     "name": "stdout",
     "output_type": "stream",
     "text": [
      "5\n",
      "1        1\n",
      "12      21\n",
      "123    321\n",
      "1234  4321\n",
      "1234554321\n"
     ]
    }
   ],
   "source": [
    "n=int(input())\n",
    "i=1\n",
    "while i<=n:\n",
    "    j=1\n",
    "    while j<=i:\n",
    "        print(j ,end='')\n",
    "        j=j+1\n",
    "    \n",
    "    space=1\n",
    "    while space<=(n-i):\n",
    "            print('  ',end='')\n",
    "            space=space+1\n",
    "            \n",
    "    star=1\n",
    "    while star<=i:\n",
    "        print(i-star+1,end='')\n",
    "        star=star+1\n",
    "            \n",
    "    print()\n",
    "    i=i+1"
   ]
  },
  {
   "cell_type": "code",
   "execution_count": 51,
   "metadata": {},
   "outputs": [],
   "source": [
    "#question2 \n"
   ]
  },
  {
   "cell_type": "code",
   "execution_count": 53,
   "metadata": {},
   "outputs": [
    {
     "name": "stdout",
     "output_type": "stream",
     "text": [
      "6\n",
      "*00000*00000*\n",
      "0*0000*0000*0\n",
      "00*000*000*00\n",
      "000*00*00*000\n",
      "0000*0*0*0000\n",
      "00000***00000\n"
     ]
    }
   ],
   "source": [
    "n = int(input())\n",
    "start = 1\n",
    "end = 2*n+1\n",
    "mid = n + 1\n",
    "row = 1\n",
    "while (row<=n):\n",
    "    column = 1\n",
    "    while (column<=2*n+1):\n",
    "        if (column==start or column==end or column==mid):\n",
    "            print(\"*\",end='')\n",
    "        else:\n",
    "            print(\"0\", end='')\n",
    "        column = column + 1\n",
    "    start = start + 1\n",
    "    end = end - 1\n",
    "    row = row + 1\n",
    "    print()\n"
   ]
  },
  {
   "cell_type": "code",
   "execution_count": 54,
   "metadata": {},
   "outputs": [],
   "source": [
    "#question3 "
   ]
  },
  {
   "cell_type": "code",
   "execution_count": 71,
   "metadata": {},
   "outputs": [
    {
     "name": "stdout",
     "output_type": "stream",
     "text": [
      "5\n",
      "    1\n",
      "   212\n",
      "  32123\n",
      " 4321234\n",
      "543212345\n"
     ]
    }
   ],
   "source": [
    "n=int(input())\n",
    "i=1\n",
    "while i<=n:\n",
    "    space=1\n",
    "    while space<=n-i:\n",
    "        print(' ',end='')\n",
    "        space=space+1\n",
    "    star=1\n",
    "    while star<=i:\n",
    "        print(i-star+1,end='')\n",
    "        star=star+1\n",
    "        \n",
    "    p=i-1\n",
    "    while p>=1:\n",
    "        print(i-p+1,end='')\n",
    "        p=p-1\n",
    "        \n",
    "    print()\n",
    "    i=i+1"
   ]
  },
  {
   "cell_type": "code",
   "execution_count": 75,
   "metadata": {},
   "outputs": [],
   "source": [
    "#question 4"
   ]
  },
  {
   "cell_type": "code",
   "execution_count": 74,
   "metadata": {},
   "outputs": [
    {
     "name": "stdout",
     "output_type": "stream",
     "text": [
      "*\n",
      " **\n",
      "  ***\n",
      "   ****\n",
      "  ***\n",
      " **\n",
      "*\n"
     ]
    }
   ],
   "source": [
    "print('*')\n",
    "print(' **')\n",
    "print('  ***')\n",
    "print('   ****')\n",
    "print('  ***')\n",
    "print(' **')\n",
    "print('*')"
   ]
  },
  {
   "cell_type": "code",
   "execution_count": 76,
   "metadata": {},
   "outputs": [
    {
     "name": "stdout",
     "output_type": "stream",
     "text": [
      "5\n",
      "* \n",
      " * * \n",
      "  * * * \n",
      " * * \n",
      "* \n"
     ]
    }
   ],
   "source": [
    "n=int(input())\n",
    "n1=(n+1)//2\n",
    "n2=n-n1\n",
    "i=1\n",
    "while(i<=n1):\n",
    "    sp=1\n",
    "    while(sp<= i-1):\n",
    "        print(\" \",end=\"\")\n",
    "        sp=sp+1\n",
    "    j=1\n",
    "    while(j<=i):\n",
    "        print(\"* \",end=\"\")\n",
    "        j=j+1\n",
    "    print()\n",
    "    i = i+1\n",
    "i = 1\n",
    "while i<=n2:\n",
    "        sp = 1\n",
    "        while sp <= (n2-i):\n",
    "            print(\" \", end = \"\")\n",
    "            sp =sp+1\n",
    "        j=1\n",
    "        while j<=(n2-i)+1:\n",
    "            print(\"* \", end = \"\")\n",
    "            j = j+1\n",
    "        print()\n",
    "        i=i+1"
   ]
  },
  {
   "cell_type": "code",
   "execution_count": null,
   "metadata": {},
   "outputs": [],
   "source": []
  }
 ],
 "metadata": {
  "kernelspec": {
   "display_name": "Python 3",
   "language": "python",
   "name": "python3"
  },
  "language_info": {
   "codemirror_mode": {
    "name": "ipython",
    "version": 3
   },
   "file_extension": ".py",
   "mimetype": "text/x-python",
   "name": "python",
   "nbconvert_exporter": "python",
   "pygments_lexer": "ipython3",
   "version": "3.7.4"
  }
 },
 "nbformat": 4,
 "nbformat_minor": 2
}
