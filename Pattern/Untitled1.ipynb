{
 "cells": [
  {
   "cell_type": "code",
   "execution_count": 1,
   "metadata": {},
   "outputs": [],
   "source": [
    "# question "
   ]
  },
  {
   "cell_type": "code",
   "execution_count": 4,
   "metadata": {},
   "outputs": [
    {
     "name": "stdout",
     "output_type": "stream",
     "text": [
      "5\n",
      "    1\n",
      "   232\n",
      "  34545\n",
      " 4567678\n",
      "56789891011\n"
     ]
    }
   ],
   "source": [
    "n=int(input())\n",
    "i=1\n",
    "while i<=n:\n",
    "    space=1\n",
    "    while space <=n-i:\n",
    "        print(' ',end='')\n",
    "        space=space+1\n",
    "        \n",
    "    j=1\n",
    "    k=i\n",
    "    while j<=i:\n",
    "        print(k , end='')\n",
    "        j=j+1\n",
    "        k=k+1\n",
    "            \n",
    "    j=1\n",
    "    p=(2*i)-2\n",
    "    while j<=i-1:\n",
    "        print(p ,end='')\n",
    "        p=p+1\n",
    "        j=j+1\n",
    "            \n",
    "    print()\n",
    "    i=i+1"
   ]
  },
  {
   "cell_type": "code",
   "execution_count": null,
   "metadata": {},
   "outputs": [],
   "source": []
  }
 ],
 "metadata": {
  "kernelspec": {
   "display_name": "Python 3",
   "language": "python",
   "name": "python3"
  },
  "language_info": {
   "codemirror_mode": {
    "name": "ipython",
    "version": 3
   },
   "file_extension": ".py",
   "mimetype": "text/x-python",
   "name": "python",
   "nbconvert_exporter": "python",
   "pygments_lexer": "ipython3",
   "version": "3.7.4"
  }
 },
 "nbformat": 4,
 "nbformat_minor": 2
}
